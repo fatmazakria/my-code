{
 "cells": [
  {
   "cell_type": "code",
   "execution_count": 2,
   "metadata": {},
   "outputs": [],
   "source": [
    "import tensorflow as tf\n",
    "import numpy as np"
   ]
  },
  {
   "cell_type": "code",
   "execution_count": 3,
   "metadata": {},
   "outputs": [],
   "source": [
    "N,D,H=64,1000,100\n",
    "x=tf.placeholder(tf.float32,shape=(N,D))\n",
    "y=tf.placeholder(tf.float32,shape=(N,D))\n",
    "w1=tf.placeholder(tf.float32,shape=(D,H))\n",
    "w2=tf.placeholder(tf.float32,shape=(H,D))"
   ]
  },
  {
   "cell_type": "code",
   "execution_count": 4,
   "metadata": {},
   "outputs": [],
   "source": [
    "h=tf.maximum(tf.matmul(x,w1),0)\n",
    "y_pred=tf.matmul(h,w2)\n",
    "diff=y_pred-y\n",
    "loss=tf.reduce_mean(tf.reduce_sum(diff**2,axis=1))\n",
    "grad_w1,grad_w2=tf.gradients(loss,[w1,w2])"
   ]
  },
  {
   "cell_type": "code",
   "execution_count": 5,
   "metadata": {},
   "outputs": [],
   "source": [
    "with tf.Session() as sess:\n",
    "    values={x:np.random.randn(N,D),\n",
    "           w1:np.random.randn(D,H),\n",
    "           w2:np.random.randn(H,D),\n",
    "           y:np.random.randn(N,D)}\n",
    "    out =sess.run([loss,grad_w1,grad_w2],\n",
    "                 feed_dict=values)\n",
    "    loss_val,grad_w1_val,grad_w2_val=out"
   ]
  },
  {
   "cell_type": "code",
   "execution_count": null,
   "metadata": {},
   "outputs": [],
   "source": []
  },
  {
   "cell_type": "code",
   "execution_count": null,
   "metadata": {},
   "outputs": [],
   "source": []
  }
 ],
 "metadata": {
  "kernelspec": {
   "display_name": "NNlab",
   "language": "python",
   "name": "nnlab"
  },
  "language_info": {
   "codemirror_mode": {
    "name": "ipython",
    "version": 3
   },
   "file_extension": ".py",
   "mimetype": "text/x-python",
   "name": "python",
   "nbconvert_exporter": "python",
   "pygments_lexer": "ipython3",
   "version": "3.6.6"
  }
 },
 "nbformat": 4,
 "nbformat_minor": 2
}
